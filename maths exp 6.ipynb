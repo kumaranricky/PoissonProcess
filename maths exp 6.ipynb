{
 "cells": [
  {
   "cell_type": "code",
   "execution_count": 50,
   "id": "7b061b02",
   "metadata": {},
   "outputs": [
    {
     "name": "stdout",
     "output_type": "stream",
     "text": [
      "The Probability of getting exactly 4 customers arrive =  0.13\n",
      "The Probability of getting more than 4 customers arrive =  0.73\n",
      "The Probability of getting fewer than 4 customers in 2 minute arrival =  0.14\n"
     ]
    }
   ],
   "source": [
    "import numpy as np\n",
    "import math\n",
    "mean=3\n",
    "t=2\n",
    "def poisson(n):\n",
    "    sum=1\n",
    "    for i in range(1,n+1):\n",
    "         sum=sum*i \n",
    "    p=math.exp(-mean*t)*(mean*t)**n/sum\n",
    "    return round(p,2) \n",
    "fq=poisson(4)\n",
    "print(\"The Probability of getting exactly 4 customers arrive = \",fq)\n",
    "\n",
    "sq=1-(poisson(4)+poisson(3)+poisson(2)+poisson(1)+poisson(0)) \n",
    "print(\"The Probability of getting more than 4 customers arrive = \",sq)\n",
    "tq=(poisson(3)+poisson(2)+poisson(1)+poisson(0))\n",
    "print(\"The Probability of getting fewer than 4 customers in 2 minute arrival = \",tq)"
   ]
  },
  {
   "cell_type": "code",
   "execution_count": null,
   "id": "0af331d8",
   "metadata": {},
   "outputs": [],
   "source": []
  }
 ],
 "metadata": {
  "kernelspec": {
   "display_name": "Python 3",
   "language": "python",
   "name": "python3"
  },
  "language_info": {
   "codemirror_mode": {
    "name": "ipython",
    "version": 3
   },
   "file_extension": ".py",
   "mimetype": "text/x-python",
   "name": "python",
   "nbconvert_exporter": "python",
   "pygments_lexer": "ipython3",
   "version": "3.8.8"
  }
 },
 "nbformat": 4,
 "nbformat_minor": 5
}
